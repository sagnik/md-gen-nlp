{
 "cells": [
  {
   "cell_type": "markdown",
   "id": "35cf6791",
   "metadata": {},
   "source": [
    "**Supported models**\n",
    "* BERT\n",
    "* RoBERTa"
   ]
  },
  {
   "cell_type": "markdown",
   "id": "d06d8e38",
   "metadata": {},
   "source": [
    "## Load Dependencies"
   ]
  },
  {
   "cell_type": "code",
   "execution_count": null,
   "id": "50354b2f",
   "metadata": {},
   "outputs": [],
   "source": [
    "import torch\n",
    "import evaluate\n",
    "import numpy as np\n",
    "from datasets import load_dataset\n",
    "from transformers import Trainer, TrainingArguments\n",
    "from transformers import AutoTokenizer, AutoModelForSequenceClassification"
   ]
  },
  {
   "cell_type": "markdown",
   "id": "a01289db",
   "metadata": {},
   "source": [
    "## Helper Functions"
   ]
  },
  {
   "cell_type": "code",
   "execution_count": null,
   "id": "62b8bbf6",
   "metadata": {},
   "outputs": [],
   "source": [
    "id2label = {0:'entailment', 1:'neutral', 2:'contradiction'}\n",
    "label2id = {'entailment':0, 'neutral':1, 'contradiction':2}\n",
    "num_labels = len(id2label)\n",
    "\n",
    "def convertlabels2ids(example):\n",
    "    example['label'] = label2id[example['label']]\n",
    "    return example\n",
    "\n",
    "def tokenize_function(examples):\n",
    "    return tokenizer(examples['premise'],examples['hypothesis'])\n",
    "\n",
    "def compute_metrics(eval_pred):\n",
    "    metric = evaluate.load(\"accuracy\")\n",
    "    logits, labels = eval_pred\n",
    "    predictions = np.argmax(logits, axis=-1)\n",
    "    return metric.compute(predictions=predictions, references=labels)"
   ]
  },
  {
   "cell_type": "markdown",
   "id": "38098876",
   "metadata": {},
   "source": [
    "## Load Model and Tokenizer"
   ]
  },
  {
   "cell_type": "code",
   "execution_count": null,
   "id": "2eefea07",
   "metadata": {},
   "outputs": [],
   "source": [
    "seed = 42\n",
    "num_proc = 4 # num of cpu workers\n",
    "checkpoint = 'varun-v-rao/bert-base-cased-snli'\n",
    "\n",
    "torch.cuda.manual_seed(seed)\n",
    "torch.manual_seed(seed)\n",
    "\n",
    "model = AutoModelForSequenceClassification.from_pretrained(checkpoint)\n",
    "tokenizer = AutoTokenizer.from_pretrained(checkpoint)"
   ]
  },
  {
   "cell_type": "markdown",
   "id": "3986d4e6",
   "metadata": {},
   "source": [
    "## Evaluate Performance"
   ]
  },
  {
   "cell_type": "code",
   "execution_count": null,
   "id": "f1dda6cb",
   "metadata": {
    "scrolled": true
   },
   "outputs": [],
   "source": [
    "num_test_epochs = 5\n",
    "\n",
    "test_datasets = ['snli', 'multi_nli','sagnikrayc/snli-bt','sagnikrayc/snli-cf-kaushik']\n",
    "dataset2split = {'snli':\"test\", 'multi_nli':\"validation_mismatched\", 'sagnikrayc/snli-bt':\"test\", 'sagnikrayc/snli-cf-kaushik':\"test\"}\n",
    "\n",
    "trainer = Trainer(\n",
    "    model,\n",
    "    tokenizer=tokenizer,\n",
    "    compute_metrics=compute_metrics\n",
    ")\n",
    "\n",
    "for dataset_str in test_datasets:\n",
    "    target_split = dataset2split[dataset_str] #\"validation_mismatched\" if dataset_str == 'multi_nli' else \"test\"\n",
    "    dataset = load_dataset(dataset_str, split=target_split)\n",
    "    \n",
    "    if dataset_str in ['sagnikrayc/snli-bt','sagnikrayc/snli-cf-kaushik']: dataset = dataset.map(convertlabels2ids) \n",
    "\n",
    "    tokenized_test_dataset = dataset.map(tokenize_function, batched=True, num_proc=num_proc).filter(lambda sample: sample['label'] in list(range(num_labels)))\n",
    "\n",
    "    col_names = dataset.column_names\n",
    "    col_names.remove('label')\n",
    "    tokenized_test_dataset = tokenized_test_dataset.rename_column('label', 'labels').remove_columns(col_names)\n",
    "    \n",
    "    tmp_results = []\n",
    "    print(f\"--- Evaluating performance on {dataset_str} ---\")\n",
    "    for i in range(num_test_epochs):\n",
    "        results = trainer.evaluate(tokenized_test_dataset)\n",
    "        tmp_results.append(results['eval_accuracy'])\n",
    "        \n",
    "    print(f\"Results array: {tmp_results}\")    \n",
    "    averaged_results = np.mean(np.asarray(tmp_results))\n",
    "    print(f\"Results averaged over {num_test_epochs} epochs: {averaged_results*100} %\\n\")"
   ]
  },
  {
   "cell_type": "code",
   "execution_count": null,
   "id": "942189e6",
   "metadata": {},
   "outputs": [],
   "source": []
  }
 ],
 "metadata": {
  "kernelspec": {
   "display_name": "Python 3 (ipykernel)",
   "language": "python",
   "name": "python3"
  },
  "language_info": {
   "codemirror_mode": {
    "name": "ipython",
    "version": 3
   },
   "file_extension": ".py",
   "mimetype": "text/x-python",
   "name": "python",
   "nbconvert_exporter": "python",
   "pygments_lexer": "ipython3",
   "version": "3.10.9"
  }
 },
 "nbformat": 4,
 "nbformat_minor": 5
}
